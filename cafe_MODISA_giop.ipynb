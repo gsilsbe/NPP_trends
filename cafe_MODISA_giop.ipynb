{
 "cells": [
  {
   "cell_type": "code",
   "execution_count": 4,
   "metadata": {},
   "outputs": [],
   "source": [
    "import pydap.client\n",
    "import numpy as np\n",
    "import matplotlib.pyplot as plt\n",
    "\n",
    "import glob\n",
    "from subprocess import *\n",
    "import sys, os\n",
    "from pylab import *\n",
    "import pandas as pd \n",
    "import datetime\n",
    "from netCDF4 import Dataset\n",
    "import xarray as xr\n",
    "\n",
    "from ctypes import c_float, c_int, cdll, c_short\n",
    "from numpy.ctypeslib import ndpointer\n",
    "import time\n",
    "import multiprocessing "
   ]
  },
  {
   "cell_type": "markdown",
   "metadata": {},
   "source": [
    "## Setup C Interface"
   ]
  },
  {
   "cell_type": "code",
   "execution_count": 5,
   "metadata": {},
   "outputs": [],
   "source": [
    "so_file = '/media/gsilsbe/nasa_npp/scripts/cafe/py_giop.so'\n",
    "lib = cdll.LoadLibrary(so_file)\n",
    "c_cafe = lib.main\n",
    "c_cafe.restype = ndpointer(dtype=c_float, shape=(3,))\n",
    "\n",
    "cafe_in = np.empty((5, 4320*2160))\n",
    "cafe_in[:] = np.NaN\n",
    "\n",
    "def call_cafe(i):\n",
    "    return c_cafe(c_float(cafe_in[0, i]), c_float(cafe_in[1, i]), c_float(cafe_in[2, i]),  \n",
    "                 c_float(cafe_in[3, i]), c_float(cafe_in[4, i]))\n"
   ]
  },
  {
   "cell_type": "markdown",
   "metadata": {},
   "source": [
    "## Functions called from Wrapper"
   ]
  },
  {
   "cell_type": "code",
   "execution_count": 6,
   "metadata": {},
   "outputs": [],
   "source": [
    "def nasa_url(d0, d1, ext):\n",
    "    return ('/media/gsilsbe/nasa_npp/modisa_r2022/monthly/A' + d0.strftime('%Y') +  d0.strftime('%m') + d0.strftime('%d') + '_' +\n",
    "            d0.strftime('%Y') + d1.strftime('%m') + d1.strftime('%d')  + ext)"
   ]
  },
  {
   "cell_type": "markdown",
   "metadata": {},
   "source": [
    "## Giant Wrapper"
   ]
  },
  {
   "cell_type": "code",
   "execution_count": 7,
   "metadata": {},
   "outputs": [],
   "source": [
    "\n",
    "def cafe(date0, outdir):\n",
    "    \n",
    "    date1 = date0 + pd.DateOffset(months=1)  - pd.DateOffset(days=1)\n",
    "    dayofyear =  np.mean([date0.dayofyear, date1.dayofyear]).astype(int) #average day of year for daylength calcs\n",
    "    \n",
    "    outfile = outdir + '/A' + date0.strftime('%Y') + date0.strftime('%j')  + date1.strftime('%Y')  + date1.strftime('%j') + '.L3m_MO_IOP_9km.nc'\n",
    "\n",
    "    if not os.path.exists(outfile):\n",
    "\n",
    "        # Stack openDAP into 1D Arrays\n",
    "        cafe_in[0,:] = xr.open_dataset( nasa_url(date0, date1, '.L3m.MO.IOP.adg_443.9km.nc'), engine='netcdf4').adg_443.stack(z=('lat', 'lon'))\n",
    "        cafe_in[1,:] = xr.open_dataset( nasa_url(date0, date1, '.L3m.MO.IOP.aph_443.9km.nc'), engine='netcdf4').aph_443.stack(z=('lat', 'lon'))\n",
    "        cafe_in[2,:] = xr.open_dataset( nasa_url(date0, date1, '.L3m.MO.IOP.bbp_443.9km.nc'), engine='netcdf4').bbp_443.stack(z=('lat', 'lon'))\n",
    "        cafe_in[3,:] = xr.open_dataset( nasa_url(date0, date1, '.L3m.MO.IOP.bbp_s.9km.nc'), engine='netcdf4').bbp_s.stack(z=('lat', 'lon'))\n",
    "        cafe_in[4,:] = xr.open_dataset( nasa_url(date0, date1, '.L3m.MO.CHL.chlor_a.9km.nc'), engine='netcdf4').chlor_a.stack(z=('lat', 'lon'))\n",
    "\n",
    "        lat = xr.open_dataset( nasa_url(date0, date1, '.L3m.MO.CHL.chlor_a.9km.nc'), engine='netcdf4').lat\n",
    "        lon = xr.open_dataset( nasa_url(date0, date1, '.L3m.MO.CHL.chlor_a.9km.nc'), engine='netcdf4').lon\n",
    "\n",
    "        # Create index of pixels where all data are present\n",
    "        rowsums = cafe_in.sum(axis=0)\n",
    "        pixloc = np.argwhere(np.isfinite(rowsums)).flatten()\n",
    "\n",
    "        # Print some information about the run\n",
    "        print('Valid pixels:', len(pixloc), '% Coverage', round(100 * len(pixloc) / (len(lat) * len(lon)), 1))\n",
    "        start = time.time()  \n",
    "        print (datetime.datetime.now().strftime(\"%Y-%m-%d %H:%M:%S\"))\n",
    "\n",
    "        # Run CAFE in Parallel\n",
    "        a_pool = multiprocessing.Pool(processes=15)\n",
    "        result = a_pool.map(call_cafe, pixloc)\n",
    "        a_pool.close()\n",
    "        a_pool.join()\n",
    "\n",
    "        # See how many minutes it takes\n",
    "        print('CAFE C Code Duration (mins):', round((time.time() - start)/60))\n",
    "\n",
    "        # Convert C output to numpy array\n",
    "        cafe_out = np.array(result)\n",
    "        cafe_max = np.array([5,5,0.15])\n",
    "        \n",
    "        def back_to_numpy(ind):\n",
    "            var = np.empty(2160 * 4320) * np.nan\n",
    "            np.put(var, pixloc, cafe_out[:,ind])\n",
    "            var = np.reshape(var, (2160, 4320))\n",
    "            var = np.where(var<0, np.nan, var)\n",
    "            var = np.where(var>cafe_max[ind], np.nan, var)\n",
    "            return(var)\n",
    "\n",
    "        adg = back_to_numpy(0)\n",
    "        aph = back_to_numpy(1)\n",
    "        bbp = back_to_numpy(2)\n",
    "\n",
    "        ds = xr.Dataset(\n",
    "            data_vars=dict(\n",
    "                adg=([\"lat\", \"lon\"], adg),\n",
    "                aph=([\"lat\", \"lon\"], aph),\n",
    "                bbp=([\"lat\", \"lon\"], bbp),\n",
    "            ),\n",
    "            coords={'time':date0, 'lat':lat, 'lon':lon},\n",
    "        )\n",
    "\n",
    "        ds.to_netcdf(outfile, encoding={\n",
    "                     'adg': {\"dtype\": 'short', \"scale_factor\": 0.0001,\"add_offset\": 2.5,\"_FillValue\": -32767},\n",
    "                     'aph': {\"dtype\": 'short', \"scale_factor\": 0.0001,\"add_offset\": 2.5,\"_FillValue\": -32767},\n",
    "                     'bbp': {\"dtype\": 'short', \"scale_factor\": 5e-6,\"add_offset\": 0.14,\"_FillValue\": -32767}})\n"
   ]
  },
  {
   "cell_type": "code",
   "execution_count": 10,
   "metadata": {
    "tags": []
   },
   "outputs": [],
   "source": [
    "ts0 = pd.date_range(\"2002-08-01\", \"2023-07-31\", freq=\"MS\")\n",
    "outdir = '/media/gsilsbe/nasa_npp/cafe/monthly_9km/'\n",
    "\n",
    "for j in ts0:\n",
    "    cafe(j, outdir)"
   ]
  },
  {
   "cell_type": "code",
   "execution_count": null,
   "metadata": {},
   "outputs": [],
   "source": []
  }
 ],
 "metadata": {
  "kernelspec": {
   "display_name": "Python 3 (ipykernel)",
   "language": "python",
   "name": "python3"
  },
  "language_info": {
   "codemirror_mode": {
    "name": "ipython",
    "version": 3
   },
   "file_extension": ".py",
   "mimetype": "text/x-python",
   "name": "python",
   "nbconvert_exporter": "python",
   "pygments_lexer": "ipython3",
   "version": "3.10.2"
  }
 },
 "nbformat": 4,
 "nbformat_minor": 4
}
