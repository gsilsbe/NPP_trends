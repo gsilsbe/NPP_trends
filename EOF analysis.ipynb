{
 "cells": [
  {
   "cell_type": "markdown",
   "id": "8c2b4efd-3148-41dc-9003-b4d1f5364e5e",
   "metadata": {},
   "source": [
    "### Script that converts NASA 9km standard mapped image (4320*2160) to lower resolution equal area map.\n",
    "### See rioxarray and below links\n",
    "\n",
    "####### https://stackoverflow.com/questions/70997075/using-xarray-interp-to-reproject-a-dataarray\n",
    "\n",
    "####### Haven't tried but look at https://gis.stackexchange.com/questions/373649/is-it-possible-to-use-esri54009-world-mollweid-proj-with-rasterio"
   ]
  },
  {
   "cell_type": "code",
   "execution_count": null,
   "id": "6fa7bf16-bfe2-4ace-adde-0638510c134b",
   "metadata": {},
   "outputs": [],
   "source": [
    "import xarray as xr\n",
    "import numpy as np\n",
    "import rioxarray \n",
    "from rasterio.enums import Resampling\n",
    "import matplotlib.pyplot as plt\n",
    "from pyproj import Transformer\n",
    "import os \n",
    "import glob\n",
    "import xarray as xr"
   ]
  },
  {
   "cell_type": "markdown",
   "id": "145dadd9-c186-40fc-8dd0-59d2a30c3b60",
   "metadata": {},
   "source": [
    "## Reduce resolution and reproject to equal area Mollweide projection (ESRI:54009)"
   ]
  },
  {
   "cell_type": "code",
   "execution_count": null,
   "id": "7b5c2e63-bf92-4b2b-884f-49b4e50822c0",
   "metadata": {},
   "outputs": [],
   "source": [
    "# https://zenodo.org/records/12586956 or equivalent\n",
    "ds = xr.open_dataset('/media/gsilsbe/nasa_npp/cafe/archival/cafe_npp.nc', decode_coords=\"all\").npp\n",
    "ds = ds.rio.write_crs('EPSG:4326')\n",
    "ds = ds.rio.set_spatial_dims(\"lon\",\"lat\",inplace=True)\n",
    "ds = ds.rio.write_nodata(np.nan, inplace=True)\n",
    "dst = ds.rio.reproject('ESRI:54009', resolution=(50000, 50000), resampling=Resampling.bilinear) \n",
    "dst"
   ]
  },
  {
   "cell_type": "markdown",
   "id": "a8ae5d80-6f80-4f6d-9d03-ad9138541ae5",
   "metadata": {},
   "source": [
    "## EOF Analysis"
   ]
  },
  {
   "cell_type": "code",
   "execution_count": null,
   "id": "878baec5-4ebb-4d1a-a925-f18c77a828be",
   "metadata": {},
   "outputs": [],
   "source": [
    "ipc = 6 # Save these many principal components\n",
    "\n",
    "da = dst.stack(z=('y','x')).values\n",
    "\n",
    "# Keep only ocean data \n",
    "mask = np.abs(np.sum(da, axis=0))\n",
    "mask = np.where(mask >= 0 , 1, 0)\n",
    "ocean_z = np.argwhere(mask.flatten()==1).flatten()\n",
    "da = da[:,ocean_z]\n",
    "\n",
    "skpca = decomposition.PCA()\n",
    "skpca.fit(da)       \n",
    "\n",
    "# Now saves the (fitted) PCA object for reuse in operations\n",
    "joblib.dump(skpca, '../EOF.pkl', compress=9)\n",
    "\n",
    "# Save expplained variance ratio\n",
    "PCdf_evr = pd.DataFrame(skpca.explained_variance_ratio_[0:ipc])\n",
    "\n",
    "# The Principal Components (PCs) are obtained by using the transform method of the pca object (skpca)\n",
    "PCs = skpca.transform(da)\n",
    "PCs = PCs[:,:ipc]\n",
    "EOFs = skpca.components_\n",
    "EOFs = EOFs[:ipc,:]\n",
    "EOF_recons = np.empty([ipc, len(dst.stack(z=('y','x')).z)])\n",
    "EOF_recons[:] = np.NaN\n",
    "\n",
    "# Scale the Principal Components\n",
    "scaler_PCs = preprocessing.StandardScaler()\n",
    "scaler_PCs.fit(PCs)\n",
    "PCs_std = scaler_PCs.transform(PCs)\n",
    "joblib.dump(scaler_PCs, './scaler_PCs.pkl')\n",
    "\n",
    "PCdf = pd.DataFrame(PCs_std, index = dst['time'], columns = [\"EOF%s\" % (x) for x in range(1, PCs_std.shape[1] +1)])\n",
    "\n",
    "for i in range(ipc): \n",
    "    EOF_recons[i,ocean_z] = EOFs[i,:]\n",
    "\n",
    "# Convert back to xarray \n",
    "EOF = xr.Dataset(\n",
    "    data_vars=dict(\n",
    "        EOF_pcs=([\"pc\", \"z\"], EOF_recons)\n",
    "    ),\n",
    "    coords={'pc':np.arange(ipc), 'z': dst.stack(z=('y','x')).z})\n",
    "EOF = EOF.unstack()        \n",
    "        \n"
   ]
  }
 ],
 "metadata": {
  "kernelspec": {
   "display_name": "Python 3 (ipykernel)",
   "language": "python",
   "name": "python3"
  },
  "language_info": {
   "codemirror_mode": {
    "name": "ipython",
    "version": 3
   },
   "file_extension": ".py",
   "mimetype": "text/x-python",
   "name": "python",
   "nbconvert_exporter": "python",
   "pygments_lexer": "ipython3",
   "version": "3.10.2"
  }
 },
 "nbformat": 4,
 "nbformat_minor": 5
}
